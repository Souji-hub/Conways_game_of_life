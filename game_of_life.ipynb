{
 "cells": [
  {
   "cell_type": "markdown",
   "metadata": {},
   "source": [
    "# Game of Life Algorithm\n",
    "Conway's Game of Life, is a cellular automaton devised by mathematician John Conway. It is a zero-player game, meaning that its evolution is determined by its initial state, with no further input from humans. The game consists of a grid of cells, each of which can be in one of two states: alive or dead.\n",
    "\n",
    "## Initialization\n",
    "1. **Initialize the grid:**\n",
    "   - Create a two-dimensional grid of cells.\n",
    "   - Each cell is in one of two states: alive or dead.\n",
    "   - Set the initial configuration of cells based on your desired pattern.\n",
    "\n",
    "## Count Live Neighbors\n",
    "2. **Count the number of live neighbors for each cell:**\n",
    "   - For each cell in the grid, determine the count of live neighbors.\n",
    "   - Define a function to calculate the live neighbors based on the cell's position.\n",
    "\n",
    "## Define the Rules\n",
    "3. **Define the rules:**\n",
    "   - Any live cell with fewer than two live neighbors dies (underpopulation).\n",
    "   - Any live cell with two or three live neighbors survives to the next generation.\n",
    "   - Any live cell with more than three live neighbors dies (overpopulation).\n",
    "   - Any dead cell with exactly three live neighbors becomes a live cell (reproduction).\n",
    "\n",
    "## Update the Grid\n",
    "4. **Update the grid based on the rules:**\n",
    "   - For each cell in the grid, apply the rules to determine its state in the next generation.\n",
    "   - Create a new grid to store the updated states.\n",
    "\n",
    "## Repeat\n",
    "5. **Repeat:**\n",
    "   - Replace the old grid with the new one.\n",
    "   - Repeat the process for the desired number of generations.\n",
    "\n",
    "## Visualization (Optional)\n",
    "6. **Visualization (Optional):**\n",
    "   - Optionally, visualize each generation to observe the evolution of the Game of Life.\n",
    "\n",
    "## End\n",
    "7. **End:**\n",
    "   - The simulation concludes after the desired number of generations or when a specific condition is met.\n",
    "\n"
   ]
  },
  {
   "cell_type": "code",
   "execution_count": 51,
   "metadata": {},
   "outputs": [],
   "source": [
    "import random\n",
    "import time"
   ]
  },
  {
   "cell_type": "code",
   "execution_count": 11,
   "metadata": {},
   "outputs": [],
   "source": [
    "rows = 5\n",
    "cols = 5\n",
    "grid = []"
   ]
  },
  {
   "cell_type": "code",
   "execution_count": 12,
   "metadata": {},
   "outputs": [],
   "source": [
    "for _ in range(rows):\n",
    "\n",
    "    row = []\n",
    "    for _ in range(cols):\n",
    "    \n",
    "        cell_value = random.choice([0, 1])\n",
    "        row.append(cell_value)\n",
    "    \n",
    "    grid.append(row)"
   ]
  },
  {
   "cell_type": "code",
   "execution_count": 13,
   "metadata": {},
   "outputs": [
    {
     "data": {
      "text/plain": [
       "[[1, 1, 1, 1, 0],\n",
       " [1, 0, 1, 1, 1],\n",
       " [1, 1, 1, 0, 1],\n",
       " [0, 1, 0, 0, 0],\n",
       " [1, 1, 0, 0, 1]]"
      ]
     },
     "execution_count": 13,
     "metadata": {},
     "output_type": "execute_result"
    }
   ],
   "source": [
    "grid"
   ]
  },
  {
   "cell_type": "code",
   "execution_count": 14,
   "metadata": {},
   "outputs": [
    {
     "name": "stdout",
     "output_type": "stream",
     "text": [
      "[1, 1, 1, 1, 0]\n",
      "[1, 0, 1, 1, 1]\n",
      "[1, 1, 1, 0, 1]\n",
      "[0, 1, 0, 0, 0]\n",
      "[1, 1, 0, 0, 1]\n"
     ]
    }
   ],
   "source": [
    "for row in grid:\n",
    "    print (row)"
   ]
  },
  {
   "cell_type": "code",
   "execution_count": 21,
   "metadata": {},
   "outputs": [
    {
     "data": {
      "text/plain": [
       "[[1, 1, 1, 0, 1],\n",
       " [0, 0, 1, 0, 0],\n",
       " [1, 1, 0, 1, 1],\n",
       " [0, 0, 0, 0, 0],\n",
       " [0, 1, 1, 0, 0]]"
      ]
     },
     "execution_count": 21,
     "metadata": {},
     "output_type": "execute_result"
    }
   ],
   "source": [
    "grid = []\n",
    "grid = [[random.choice([0, 1]) for _ in range(cols)] for _ in range(rows)]\n",
    "grid"
   ]
  },
  {
   "cell_type": "code",
   "execution_count": 23,
   "metadata": {},
   "outputs": [
    {
     "name": "stdout",
     "output_type": "stream",
     "text": [
      "2 2\n"
     ]
    }
   ],
   "source": [
    "live_neighbors = 0\n",
    "row, col = 2, 2\n",
    "print(row,col)"
   ]
  },
  {
   "cell_type": "code",
   "execution_count": 27,
   "metadata": {},
   "outputs": [
    {
     "name": "stdout",
     "output_type": "stream",
     "text": [
      "(-1, -1)  (-1, 0)  (-1, 1)  \n",
      "(0, -1)  (0, 0)  (0, 1)  \n",
      "(1, -1)  (1, 0)  (1, 1)  \n"
     ]
    }
   ],
   "source": [
    "for i in range(-1, 2):\n",
    "    for j in range(-1, 2):\n",
    "        print(f'({i}, {j})', end='  ')\n",
    "    print()"
   ]
  },
  {
   "cell_type": "code",
   "execution_count": 28,
   "metadata": {},
   "outputs": [],
   "source": [
    "rows = 5\n",
    "cols = 5\n",
    "grid = []"
   ]
  },
  {
   "cell_type": "code",
   "execution_count": 29,
   "metadata": {},
   "outputs": [],
   "source": [
    "grid = [[random.choice([0, 1]) for _ in range(cols)] for _ in range(rows)]"
   ]
  },
  {
   "cell_type": "code",
   "execution_count": 30,
   "metadata": {},
   "outputs": [
    {
     "data": {
      "text/plain": [
       "[[0, 1, 1, 0, 1],\n",
       " [1, 1, 0, 0, 0],\n",
       " [0, 0, 1, 0, 1],\n",
       " [0, 1, 0, 1, 1],\n",
       " [1, 0, 1, 0, 0]]"
      ]
     },
     "execution_count": 30,
     "metadata": {},
     "output_type": "execute_result"
    }
   ],
   "source": [
    "grid"
   ]
  },
  {
   "cell_type": "code",
   "execution_count": 31,
   "metadata": {},
   "outputs": [
    {
     "name": "stdout",
     "output_type": "stream",
     "text": [
      ". * * . *\n",
      "* * . . .\n",
      ". . * . *\n",
      ". * . * *\n",
      "* . * . .\n",
      "\n"
     ]
    }
   ],
   "source": [
    "for row in grid:\n",
    "    print(' '.join(['*' if cell else '.' for cell in row]))\n",
    "print()"
   ]
  },
  {
   "cell_type": "code",
   "execution_count": 32,
   "metadata": {},
   "outputs": [
    {
     "name": "stdout",
     "output_type": "stream",
     "text": [
      "(-1, -1)  (-1, 0)  (-1, 1)  \n",
      "(0, -1)  (0, 0)  (0, 1)  \n",
      "(1, -1)  (1, 0)  (1, 1)  \n"
     ]
    }
   ],
   "source": [
    "for i in range(-1, 2):\n",
    "    for j in range(-1, 2):\n",
    "        print(f'({i}, {j})', end='  ')\n",
    "    print()\n"
   ]
  },
  {
   "cell_type": "code",
   "execution_count": 33,
   "metadata": {},
   "outputs": [],
   "source": [
    "def count_live_neighbors(grid, row, col):\n",
    "\n",
    "    live_neighbors = 0\n",
    "    for i in range(-1, 2):\n",
    "        for j in range(-1, 2):\n",
    "            if i == 0 and j == 0:\n",
    "                continue\n",
    "\n",
    "            neighbor_row, neighbor_col = row + i, col + j\n",
    "            if 0 <= neighbor_row < rows and 0 <= neighbor_col < cols:\n",
    "                 if grid[neighbor_row][neighbor_col]:\n",
    "                     live_neighbors += 1\n",
    "\n",
    "    return live_neighbors\n"
   ]
  },
  {
   "cell_type": "code",
   "execution_count": 34,
   "metadata": {},
   "outputs": [
    {
     "name": "stdout",
     "output_type": "stream",
     "text": [
      "Live neighbors at position (1, 1): 4\n"
     ]
    }
   ],
   "source": [
    "rows, cols = len(grid), len(grid[0])\n",
    "row, col = 1, 1\n",
    "\n",
    "live_neighbors = count_live_neighbors(grid, row, col)\n",
    "print(f\"Live neighbors at position ({row}, {col}): {live_neighbors}\")\n"
   ]
  },
  {
   "cell_type": "code",
   "execution_count": 36,
   "metadata": {},
   "outputs": [
    {
     "name": "stdout",
     "output_type": "stream",
     "text": [
      "Live neighbors at position (0, 0): 3\n",
      "Live neighbors at position (0, 1): 3\n",
      "Live neighbors at position (0, 2): 2\n",
      "Live neighbors at position (0, 3): 2\n",
      "Live neighbors at position (0, 4): 0\n",
      "Live neighbors at position (1, 0): 2\n",
      "Live neighbors at position (1, 1): 4\n",
      "Live neighbors at position (1, 2): 4\n",
      "Live neighbors at position (1, 3): 4\n",
      "Live neighbors at position (1, 4): 2\n",
      "Live neighbors at position (2, 0): 3\n",
      "Live neighbors at position (2, 1): 4\n",
      "Live neighbors at position (2, 2): 3\n",
      "Live neighbors at position (2, 3): 4\n",
      "Live neighbors at position (2, 4): 2\n",
      "Live neighbors at position (3, 0): 2\n",
      "Live neighbors at position (3, 1): 3\n",
      "Live neighbors at position (3, 2): 4\n",
      "Live neighbors at position (3, 3): 4\n",
      "Live neighbors at position (3, 4): 2\n",
      "Live neighbors at position (4, 0): 1\n",
      "Live neighbors at position (4, 1): 3\n",
      "Live neighbors at position (4, 2): 2\n",
      "Live neighbors at position (4, 3): 3\n",
      "Live neighbors at position (4, 4): 2\n"
     ]
    }
   ],
   "source": [
    "for row in range(rows):\n",
    "    for col in range(cols):\n",
    "        live_neighbors = count_live_neighbors(grid, row, col)\n",
    "        print(f\"Live neighbors at position ({row}, {col}): {live_neighbors}\")"
   ]
  },
  {
   "cell_type": "code",
   "execution_count": 37,
   "metadata": {},
   "outputs": [
    {
     "data": {
      "text/plain": [
       "[[0, 0, 0, 0, 0],\n",
       " [0, 0, 0, 0, 0],\n",
       " [0, 0, 0, 0, 0],\n",
       " [0, 0, 0, 0, 0],\n",
       " [0, 0, 0, 0, 0]]"
      ]
     },
     "execution_count": 37,
     "metadata": {},
     "output_type": "execute_result"
    }
   ],
   "source": [
    "new_grid = [[0] * cols for _ in range(rows)]\n",
    "new_grid"
   ]
  },
  {
   "cell_type": "code",
   "execution_count": 38,
   "metadata": {},
   "outputs": [],
   "source": [
    "for row in range(rows):\n",
    "        for col in range(cols):\n",
    "            live_neighbors = count_live_neighbors(grid, row, col)\n",
    "\n",
    "            if grid[row][col] == 1:\n",
    "                # Cell is alive\n",
    "                if live_neighbors < 2 or live_neighbors > 3:\n",
    "                    new_grid[row][col] = 0  # Die due to underpopulation or overpopulation\n",
    "                else:\n",
    "                    new_grid[row][col] = 1  # Survive\n",
    "            else:\n",
    "                # Cell is dead\n",
    "                if live_neighbors == 3:\n",
    "                    new_grid[row][col] = 1  # Reproduction"
   ]
  },
  {
   "cell_type": "code",
   "execution_count": 39,
   "metadata": {},
   "outputs": [
    {
     "data": {
      "text/plain": [
       "[[0, 1, 1, 0, 1],\n",
       " [1, 1, 0, 0, 0],\n",
       " [0, 0, 1, 0, 1],\n",
       " [0, 1, 0, 1, 1],\n",
       " [1, 0, 1, 0, 0]]"
      ]
     },
     "execution_count": 39,
     "metadata": {},
     "output_type": "execute_result"
    }
   ],
   "source": [
    "grid"
   ]
  },
  {
   "cell_type": "code",
   "execution_count": 40,
   "metadata": {},
   "outputs": [
    {
     "data": {
      "text/plain": [
       "[[1, 1, 1, 0, 0],\n",
       " [1, 0, 0, 0, 0],\n",
       " [1, 0, 1, 0, 1],\n",
       " [0, 1, 0, 0, 1],\n",
       " [0, 1, 1, 1, 0]]"
      ]
     },
     "execution_count": 40,
     "metadata": {},
     "output_type": "execute_result"
    }
   ],
   "source": [
    "new_grid"
   ]
  },
  {
   "cell_type": "markdown",
   "metadata": {},
   "source": [
    "Final Program"
   ]
  },
  {
   "cell_type": "code",
   "execution_count": 52,
   "metadata": {},
   "outputs": [],
   "source": [
    "def initialize_grid(rows, cols, density=0.2):\n",
    "    grid = [[random.choice([0, 1]) for _ in range(cols)] for _ in range(rows)]\n",
    "    return grid"
   ]
  },
  {
   "cell_type": "code",
   "execution_count": 53,
   "metadata": {},
   "outputs": [],
   "source": [
    "def count_live_neighbors(grid, row, col):\n",
    "\n",
    "    live_neighbors = 0\n",
    "    rows, cols = len(grid), len(grid[0])\n",
    "\n",
    "    for i in range(-1, 2):\n",
    "        for j in range(-1, 2):\n",
    "            if i == 0 and j == 0:\n",
    "                continue\n",
    "\n",
    "            neighbor_row, neighbor_col = row + i, col + j\n",
    "            if 0 <= neighbor_row < rows and 0 <= neighbor_col < cols:\n",
    "                live_neighbors += grid[neighbor_row][neighbor_col]\n",
    "\n",
    "    return live_neighbors"
   ]
  },
  {
   "cell_type": "code",
   "execution_count": 54,
   "metadata": {},
   "outputs": [],
   "source": [
    "def update_grid(grid):\n",
    "    \n",
    "    rows, cols = len(grid), len(grid[0])\n",
    "    new_grid = [[0] * cols for _ in range(rows)]\n",
    "\n",
    "    for row in range(rows):\n",
    "        for col in range(cols):\n",
    "            live_neighbors = count_live_neighbors(grid, row, col)\n",
    "\n",
    "            if grid[row][col] == 1:\n",
    "                # Cell is alive\n",
    "                if live_neighbors < 2 or live_neighbors > 3:\n",
    "                    new_grid[row][col] = 0  # Die due to underpopulation or overpopulation\n",
    "                else:\n",
    "                    new_grid[row][col] = 1  # Survive\n",
    "            else:\n",
    "                # Cell is dead\n",
    "                if live_neighbors == 3:\n",
    "                    new_grid[row][col] = 1  # Reproduction\n",
    "\n",
    "    return new_grid"
   ]
  },
  {
   "cell_type": "code",
   "execution_count": 55,
   "metadata": {},
   "outputs": [],
   "source": [
    "rows, cols = 5, 5\n",
    "generations = 10\n",
    "density = 0.2 \n",
    "delay = 0.2"
   ]
  },
  {
   "cell_type": "code",
   "execution_count": 56,
   "metadata": {},
   "outputs": [
    {
     "name": "stdout",
     "output_type": "stream",
     "text": [
      "Generation 1:\n",
      "\n",
      "[0, 1, 0, 0, 1]\n",
      "[1, 1, 1, 1, 0]\n",
      "[0, 1, 0, 1, 0]\n",
      "[1, 0, 1, 0, 0]\n",
      "[0, 1, 1, 0, 1]\n",
      "Generation 2:\n",
      "\n",
      "[1, 1, 0, 1, 0]\n",
      "[1, 0, 0, 1, 1]\n",
      "[0, 0, 0, 1, 0]\n",
      "[1, 0, 0, 0, 0]\n",
      "[0, 1, 1, 1, 0]\n",
      "Generation 3:\n",
      "\n",
      "[1, 1, 1, 1, 1]\n",
      "[1, 1, 0, 1, 1]\n",
      "[0, 0, 0, 1, 1]\n",
      "[0, 1, 0, 1, 0]\n",
      "[0, 1, 1, 0, 0]\n",
      "Generation 4:\n",
      "\n",
      "[1, 0, 0, 0, 1]\n",
      "[1, 0, 0, 0, 0]\n",
      "[1, 1, 0, 0, 0]\n",
      "[0, 1, 0, 1, 1]\n",
      "[0, 1, 1, 0, 0]\n",
      "Generation 5:\n",
      "\n",
      "[0, 0, 0, 0, 0]\n",
      "[1, 0, 0, 0, 0]\n",
      "[1, 1, 1, 0, 0]\n",
      "[0, 0, 0, 1, 0]\n",
      "[0, 1, 1, 1, 0]\n",
      "Generation 6:\n",
      "\n",
      "[0, 0, 0, 0, 0]\n",
      "[1, 0, 0, 0, 0]\n",
      "[1, 1, 1, 0, 0]\n",
      "[1, 0, 0, 1, 0]\n",
      "[0, 0, 1, 1, 0]\n",
      "Generation 7:\n",
      "\n",
      "[0, 0, 0, 0, 0]\n",
      "[1, 0, 0, 0, 0]\n",
      "[1, 0, 1, 0, 0]\n",
      "[1, 0, 0, 1, 0]\n",
      "[0, 0, 1, 1, 0]\n",
      "Generation 8:\n",
      "\n",
      "[0, 0, 0, 0, 0]\n",
      "[0, 1, 0, 0, 0]\n",
      "[1, 0, 0, 0, 0]\n",
      "[0, 0, 0, 1, 0]\n",
      "[0, 0, 1, 1, 0]\n",
      "Generation 9:\n",
      "\n",
      "[0, 0, 0, 0, 0]\n",
      "[0, 0, 0, 0, 0]\n",
      "[0, 0, 0, 0, 0]\n",
      "[0, 0, 1, 1, 0]\n",
      "[0, 0, 1, 1, 0]\n",
      "Generation 10:\n",
      "\n",
      "[0, 0, 0, 0, 0]\n",
      "[0, 0, 0, 0, 0]\n",
      "[0, 0, 0, 0, 0]\n",
      "[0, 0, 1, 1, 0]\n",
      "[0, 0, 1, 1, 0]\n"
     ]
    }
   ],
   "source": [
    "grid = initialize_grid(rows, cols, density = 0.2)\n",
    "\n",
    "for generation in range(generations):\n",
    "        print(f\"Generation {generation + 1}:\\n\")\n",
    "        for rows in grid:\n",
    "            print(rows)\n",
    "        time.sleep(delay)\n",
    "\n",
    "        grid = update_grid(grid)"
   ]
  },
  {
   "cell_type": "code",
   "execution_count": null,
   "metadata": {},
   "outputs": [],
   "source": []
  }
 ],
 "metadata": {
  "kernelspec": {
   "display_name": "project_environment",
   "language": "python",
   "name": "python3"
  },
  "language_info": {
   "codemirror_mode": {
    "name": "ipython",
    "version": 3
   },
   "file_extension": ".py",
   "mimetype": "text/x-python",
   "name": "python",
   "nbconvert_exporter": "python",
   "pygments_lexer": "ipython3",
   "version": "3.12.1"
  }
 },
 "nbformat": 4,
 "nbformat_minor": 2
}
